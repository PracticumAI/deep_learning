{
 "cells": [
  {
   "cell_type": "markdown",
   "id": "95a89519-03ef-403d-adbc-d8e9af6748d1",
   "metadata": {
    "tags": []
   },
   "source": [
    "![Practicum AI Logo image](https://github.com/PracticumAI/practicumai.github.io/blob/main/images/logo/PracticumAI_logo_250x50.png?raw=true) <img src=\"images/practicumai_deep_learning.png\" alt=\"Practicum AI: Transfer Learning icon\" align=\"right\" width=50>\n",
    "***"
   ]
  },
  {
   "cell_type": "markdown",
   "id": "2f3081b5-2f6c-4cdb-b313-aaed882b1133",
   "metadata": {},
   "source": [
    "## HiPerGator Instructions\n",
    "\n",
    "For users running these notebooks on HiPerGator, the kernel definition file is staged, and needs to be copied to your home directory.\n",
    "\n",
    "Running the following cell with do this for you:"
   ]
  },
  {
   "cell_type": "code",
   "execution_count": null,
   "id": "558b0567-e2ee-4189-9e3d-169222f5f65e",
   "metadata": {},
   "outputs": [],
   "source": [
    "!cp -r /data/training/Jupyter/PracticumAI/kernels/deep_learning/ ~/.local/share/jupyter/kernels/"
   ]
  },
  {
   "cell_type": "markdown",
   "id": "b7535829-2674-45fb-b55f-e4fe5b7782f8",
   "metadata": {},
   "source": [
    "<img src=\"images/deep_learning_kernel.png\" alt=\"Screenshot of the Deep Learning kernel\" align=right>\n",
    "After you run the cell above, wait 15-20 seconds, and there should be a new kernel card in the Launcher called \"Deep Learning\".\n",
    "\n",
    "That is the kernel we will use.\n",
    "\n",
    "You can now proceed with the rest of the notebooks. "
   ]
  },
  {
   "cell_type": "markdown",
   "id": "f5473362",
   "metadata": {},
   "source": [
    "## Google Colab\n",
    "\n",
    "Since each notebook runs in its own environment, see the individual notebooks for instructions on running them in Google Colab."
   ]
  },
  {
   "cell_type": "markdown",
   "id": "d0e792a0-f539-44c8-85d5-21ef201cc463",
   "metadata": {},
   "source": [
    "## Other Systems\n",
    "\n",
    "There is an environment.yml file in the repository that can be used to create a Conda environment on other systems that should work to run these notebooks. \n",
    "\n",
    "Generally, you will want to run a command like the one below in a terminal on your system:\n",
    "\n",
    "     conda env create --prefix deep_learning-pt_lightning -f environment.yml\n",
    "\n",
    "Then to make the kernel definition file:\n",
    "\n",
    "     conda activate deep_learning-pt_lightning\n",
    "     python -m ipykernel install --user --name=\"deep-learning\" --display-name=\"Deep Learning\"\n",
    "\n",
    "If you want, you can add the icon by putting the file [logo-64x64.png](images/logo-64x64.png) in your kernel folder, typically at `~/.local/share/jupyter/kernels/deep-learning`."
   ]
  }
 ],
 "metadata": {
  "kernelspec": {
   "display_name": "Python 3 (ipykernel)",
   "language": "python",
   "name": "python3"
  },
  "language_info": {
   "codemirror_mode": {
    "name": "ipython",
    "version": 3
   },
   "file_extension": ".py",
   "mimetype": "text/x-python",
   "name": "python",
   "nbconvert_exporter": "python",
   "pygments_lexer": "ipython3",
   "version": "3.10.12"
  }
 },
 "nbformat": 4,
 "nbformat_minor": 5
}
