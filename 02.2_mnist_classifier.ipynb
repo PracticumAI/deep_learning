{
 "cells": [
  {
   "cell_type": "markdown",
   "metadata": {},
   "source": [
    "![Practicum AI Logo image](images/practicum_ai_logo.png) <img src='images/practicumai_deep_learning.png' alt='Practicum AI: Deep Learning Foundations icon' align='right' width=50>\n",
    "\n",
    "***\n",
    "# *Practicum AI:* Deep Learning - MNIST Classifier\n",
    "\n",
    "This exercise adapted from Baig et al. (2020) <i>The Deep Learning Workshop</i> from <a href=\"https://www.packtpub.com/product/the-deep-learning-workshop/9781839219856\">Packt Publishers</a> (Exercise 2.07, page 92).\n",
    "\n",
    "## Amelia's AI Adventure Continues...\n",
    "\n",
    "<img alt=\"A cartoon of Dr. Amelia's dog looking at a computer with a stack of papers next to it showing some handwritten digits.\" src=\"images/Amelias_Dog_MNIST.jpg\" padding=20 align=\"right\" width=250>Amelia and her nutrition studies are back! After her adventures with image recognition and binary classification, she's curious to dive deeper. \n",
    "\n",
    "While Amelia's data collection process is working for most participants in her study, some do not like using the phone application to submit their survey responses. They keep sending in handwritten responses. Realizing that the data from these study participants is still vital to her research, Dr. Amelia is now looking to automate entering these responses using a program to read the numbers that make up the survey responses.\n",
    "\n",
    "Again, Amelia decides to start with the basics: recognizing handwritten numbers. That's where the MNIST dataset comes in. With its vast collection of handwritten digits, it's the perfect training ground for Amelia's next AI venture.\n",
    "\n",
    "**Note:** The cartoon of Dr Amelia's dog was generated with AI's assistance.\n",
    "\n",
    "Training a model on the MNIST dataset is often considered the \"Hello world!\" of AI. It is a commonly used first introduction to image recognition with deep learning.\n",
    "\n",
    "\n",
    "![AI Application Development Pathway model](https://github.com/PracticumAI/deep_learning_2_draft/blob/main/M3-AppDev.00_00_22_23.Still001.png?raw=true)\n",
    "\n",
    " >&#128221; While you're going through this notebook, see if you can figure out which steps here are associated with each of the steps of the Development Pathway.\n",
    "\n",
    "## MNIST Handwritten Digit Classification Dataset\n",
    "\n",
    "The [MNIST](http://yann.lecun.com/exdb/mnist/) (Modified National Institute of Standards and Technology) training dataset contains 60,000 28×28 pixel grayscale images of handwritten single digits between 0 and 9, with an additional 10,000 images available for testing. \n",
    "\n",
    "The MNIST dataset is frequently used in machine learning research and has become a standard benchmark for image classification models. Top-performing models often achieve a classification accuracy above 99%, with an error rate between 0.4% and 0.2% on the hold-out test dataset.\n",
    "\n",
    "In this exercise, you will implement a deep neural network (multi-layer) capable of classifying these images of handwritten digits into one of 10 classes. \n",
    "\n",
    "Amelia knows that to start any AI project, she'll need the right tools. She begins by importing the necessary libraries to set the stage for her digit-reading neural network.\n",
    "\n",
    "## 1. Import libraries\n",
    "\n",
    "Import the necessary libraries."
   ]
  },
  {
   "cell_type": "code",
   "execution_count": 1,
   "metadata": {},
   "outputs": [],
   "source": [
    "import torch\n",
    "import torch.nn as nn\n",
    "import torch.optim as optim\n",
    "import torch.nn.functional as F\n",
    "from torch.utils.data import DataLoader, TensorDataset\n",
    "import torchvision\n",
    "import torchvision.transforms as transforms\n",
    "import pytorch_lightning as pl\n",
    "from pytorch_lightning import Trainer\n",
    "\n",
    "import pandas as pd \n",
    "import numpy as np\n",
    "\n",
    "import matplotlib.pyplot as plt  # Import the matplotlib library for plotting and visualization.\n",
    "# This line allows for the display of plots directly within the Jupyter notebook interface.\n",
    "%matplotlib inline"
   ]
  },
  {
   "cell_type": "markdown",
   "metadata": {},
   "source": [
    "## 2. Load the MNIST dataset\n",
    "\n",
    "Amelia will need to import the MNIST dataset from PyTorch's [torchvision.datasets module](https://pytorch.org/vision/stable/datasets.html#mnist). The `train_features` and `test_features` variables contain the training and test images, while `train_labels` and `test_labels` contain the corresponding labels for each item in those datasets.  \n",
    "\n",
    "```python\n",
    "# Define transforms to convert PIL images to tensors and normalize\n",
    "transform = transforms.Compose([\n",
    "    transforms.ToTensor(),\n",
    "    transforms.Normalize((0.1307,), (0.3081,))  # MNIST mean and std\n",
    "])\n",
    "\n",
    "# Load the MNIST dataset from torchvision\n",
    "train_dataset = torchvision.datasets.MNIST(root='./data', train=True, download=True, transform=transform)\n",
    "test_dataset = torchvision.datasets.MNIST(root='./data', train=False, download=True, transform=transform)\n",
    "\n",
    "# Extract features and labels for compatibility with the rest of the notebook\n",
    "train_features = train_dataset.data.numpy()\n",
    "train_labels = train_dataset.targets.numpy()\n",
    "test_features = test_dataset.data.numpy()\n",
    "test_labels = test_dataset.targets.numpy()\n",
    "```"
   ]
  },
  {
   "cell_type": "code",
   "execution_count": 4,
   "metadata": {},
   "outputs": [],
   "source": [
    "# Code it!\n",
    "# Define transforms to convert PIL images to tensors and normalize\n",
    "transform = transforms.Compose([\n",
    "    transforms.ToTensor(),\n",
    "    transforms.Normalize((0.1307,), (0.3081,))  # MNIST mean and std\n",
    "])\n",
    "\n",
    "# Load the MNIST dataset from torchvision\n",
    "train_dataset = torchvision.datasets.MNIST(root='./data', train=True, download=True, transform=transform)\n",
    "test_dataset = torchvision.datasets.MNIST(root='./data', train=False, download=True, transform=transform)\n",
    "\n",
    "# Extract features and labels for compatibility with the rest of the notebook\n",
    "train_features = train_dataset.data.numpy()\n",
    "train_labels = train_dataset.targets.numpy()\n",
    "test_features = test_dataset.data.numpy()\n",
    "test_labels = test_dataset.targets.numpy()"
   ]
  },
  {
   "cell_type": "markdown",
   "metadata": {},
   "source": [
    "## 3. Visualize the data\n",
    "\n",
    "Before we start to work with data, it is always good to get a better idea of what we are working with.\n",
    "\n",
    "How many images do we have in our training and testing datasets? (Hint, remember the `len()` function.)"
   ]
  },
  {
   "cell_type": "code",
   "execution_count": 5,
   "metadata": {},
   "outputs": [
    {
     "name": "stdout",
     "output_type": "stream",
     "text": [
      "Training images: 60000\n",
      "Test images: 10000\n",
      "Image shape: (28, 28)\n"
     ]
    }
   ],
   "source": [
    "# Code it!\n",
    "print(f\"Training images: {len(train_features)}\")\n",
    "print(f\"Test images: {len(test_features)}\")\n",
    "print(f\"Image shape: {train_features[0].shape}\")"
   ]
  },
  {
   "cell_type": "markdown",
   "metadata": {},
   "source": [
    "Let's have a look at a random image."
   ]
  },
  {
   "cell_type": "code",
   "execution_count": 6,
   "metadata": {
    "tags": []
   },
   "outputs": [
    {
     "name": "stdout",
     "output_type": "stream",
     "text": [
      "[[  0   0   0   0   0   0   0   0   0   0   0   0   0   0   0   0   0   0   0   0   0   0   0   0   0   0   0   0]\n",
      " [  0   0   0   0   0   0   0   0   0   0   0   0   0   0   0   0   0   0   0   0   0   0   0   0   0   0   0   0]\n",
      " [  0   0   0   0   0   0   0   0   0   0   0   0   0   0   0   0   0   0   0   0   0   0   0   0   0   0   0   0]\n",
      " [  0   0   0   0   0   0   0   0   0   0   0   0   0   0   0   0   0   0   0   0   0   0   0   0   0   0   0   0]\n",
      " [  0   0   0   0   0   0   0   0   0   0   0   0  61 195 160 196  77  15   0   0   0   0   0   0   0   0   0   0]\n",
      " [  0   0   0   0   0   0   0   0   0   0   0 125 242 249 230 254 254 194  44   0   0   0   0   0   0   0   0   0]\n",
      " [  0   0   0   0   0   0   0   0   0   0  19 237 254 148  21 247 254 254 216  94   2   0   0   0   0   0   0   0]\n",
      " [  0   0   0   0   0   0   0   0   0   0 141 254 216  13   0  22  85 160 254 254 137   0   0   0   0   0   0   0]\n",
      " [  0   0   0   0   0   0   0   0   0  79 233 254 162   0   0   0   0   1 110 250 252 172   2   0   0   0   0   0]\n",
      " [  0   0   0   0   0   0   0   0   6 185 254 184   2   0   0   0   0   0   0 114 250 254 128   0   0   0   0   0]\n",
      " [  0   0   0   0   0   0   0   0 108 254 254 103   0   0   0   0   0   0   0   0 141 254 197   0   0   0   0   0]\n",
      " [  0   0   0   0   0   0   0   3 188 254 179   3   0   0   0   0   0   0   0   0  58 254 197   0   0   0   0   0]\n",
      " [  0   0   0   0   0   0   0  20 254 254  96   0   0   0   0   0   0   0   0   0  30 254 197   0   0   0   0   0]\n",
      " [  0   0   0   0   0   0   0 138 254 254  47   0   0   0   0   0   0   0   0   0 114 254 197   0   0   0   0   0]\n",
      " [  0   0   0   0   0   0   0 199 254 183   0   0   0   0   0   0   0   0   0   0 114 255 198   0   0   0   0   0]\n",
      " [  0   0   0   0   0   0  20 227 254 113   0   0   0   0   0   0   0   0   0  39 221 254 100   0   0   0   0   0]\n",
      " [  0   0   0   0   0   0  38 254 254 113   0   0   0   0   0   0   0   0   7 180 254 184   2   0   0   0   0   0]\n",
      " [  0   0   0   0   0   0  38 254 254 113   0   0   0   0   0   0   0   3 194 254 248  53   0   0   0   0   0   0]\n",
      " [  0   0   0   0   0   0  38 254 254 113   0   0   0   0   0   0  39 180 254 245 122   0   0   0   0   0   0   0]\n",
      " [  0   0   0   0   0   0  21 229 254 113   0   0   0   0   0  44 221 254 248  87   0   0   0   0   0   0   0   0]\n",
      " [  0   0   0   0   0   0   0 198 254 212  65   0   0  10 121 254 254 250  84   0   0   0   0   0   0   0   0   0]\n",
      " [  0   0   0   0   0   0   0  86 254 254 208 151 151 232 254 254 189  29   0   0   0   0   0   0   0   0   0   0]\n",
      " [  0   0   0   0   0   0   0   2 128 241 254 254 254 254 254 166  15   0   0   0   0   0   0   0   0   0   0   0]\n",
      " [  0   0   0   0   0   0   0   0   0  54 166 254 254 162  66   0   0   0   0   0   0   0   0   0   0   0   0   0]\n",
      " [  0   0   0   0   0   0   0   0   0   0   0   0   0   0   0   0   0   0   0   0   0   0   0   0   0   0   0   0]\n",
      " [  0   0   0   0   0   0   0   0   0   0   0   0   0   0   0   0   0   0   0   0   0   0   0   0   0   0   0   0]\n",
      " [  0   0   0   0   0   0   0   0   0   0   0   0   0   0   0   0   0   0   0   0   0   0   0   0   0   0   0   0]\n",
      " [  0   0   0   0   0   0   0   0   0   0   0   0   0   0   0   0   0   0   0   0   0   0   0   0   0   0   0   0]]\n"
     ]
    },
    {
     "data": {
      "image/png": "[encoded data removed]",
      "text/plain": [
       "<Figure size 640x480 with 1 Axes>"
      ]
     },
     "metadata": {},
     "output_type": "display_data"
    },
    {
     "name": "stdout",
     "output_type": "stream",
     "text": [
      "The true label for this image is a 0.\n"
     ]
    }
   ],
   "source": [
    "# Set line width for numpy array printing\n",
    "np.set_printoptions(linewidth=150)\n",
    "\n",
    "# Select a random number from train_features\n",
    "select = np.random.randint(0,len(train_features))\n",
    "\n",
    "# Print the image array - longer line length above should allow it to have all 28 rows in 1 line\n",
    "print(train_features[select])\n",
    "\n",
    "# Display the image as an actual image\n",
    "plt.imshow(train_features[select], cmap='gray')\n",
    "plt.show()\n",
    "\n",
    "# Print the true label for the image from train_labels\n",
    "print(f\"The true label for this image is a {train_labels[select]}.\")"
   ]
  },
  {
   "cell_type": "markdown",
   "metadata": {},
   "source": [
    "The ouptut of the cell above should help clarify how images are encoded in our data. Each pixel has a value from 0 (black) to 255 (white). Since our images are black and white, we only have one grid of pixels. For color images, we would have three: one for each color, red, green, blue.\n",
    "\n",
    "Our datasets have 60,000 images in the `train_features` and 10,000 images in the `test_features`. We will use these data as we move forward."
   ]
  },
  {
   "cell_type": "markdown",
   "metadata": {},
   "source": [
    "## 4. Normalize the data\n",
    "\n",
    "Before we normalize the data, look to see what the current maximum value is in `train_features`."
   ]
  },
  {
   "cell_type": "code",
   "execution_count": 7,
   "metadata": {},
   "outputs": [
    {
     "name": "stdout",
     "output_type": "stream",
     "text": [
      "Max value in train_features: 255\n"
     ]
    }
   ],
   "source": [
    "# Code it! What is the max value of train_features?\n",
    "print(f\"Max value in train_features: {train_features.max()}\")"
   ]
  },
  {
   "cell_type": "markdown",
   "metadata": {},
   "source": [
    "\n",
    "Amelia normalizes the data to ensure her AI model can efficiently process these images. Processing your features so that they are represented by numbers between 0 and 1 is a best practice for AI model development.\n",
    "\n",
    "Normalize the data by scaling the images so their values are between 0 and 1.\n",
    "\n",
    "```python\n",
    "# Normalize the pixel values of the training and testing images to be between 0 and 1.\n",
    "# This is done by dividing each pixel value by 255 (the maximum pixel value for an 8-bit image).\n",
    "# Normalizing improves the training process and convergence.\n",
    "train_features, test_features = train_features / 255.0, test_features / 255.0\n",
    "```"
   ]
  },
  {
   "cell_type": "code",
   "execution_count": 8,
   "metadata": {},
   "outputs": [],
   "source": [
    "# Code it!\n",
    "train_features, test_features = train_features / 255.0, test_features / 255.0"
   ]
  },
  {
   "cell_type": "markdown",
   "metadata": {},
   "source": [
    "Look at the maximum value of `train features` after normalization."
   ]
  },
  {
   "cell_type": "code",
   "execution_count": 9,
   "metadata": {},
   "outputs": [
    {
     "name": "stdout",
     "output_type": "stream",
     "text": [
      "Max value in train_features after normalization: 1.0\n"
     ]
    }
   ],
   "source": [
    "# Code it! After normalization, what is the max value of train_features?\n",
    "print(f\"Max value in train_features after normalization: {train_features.max()}\")"
   ]
  },
  {
   "cell_type": "markdown",
   "metadata": {},
   "source": [
    "## 5. Build the sequential model using PyTorch Lightning\n",
    "\n",
    "Now, the fun part begins! Amelia sets out to build her neural network. In the previous exercises, Amelia called a pre-trained model for image recognition and then built a single-layer network for her binary classifier. With her confidence high, she is going to create this model herself out of multiple layers. This approach gives her (and you!) the most control over the function of the model.\n",
    "\n",
    "Using PyTorch Lightning, we'll create a model class that encapsulates the neural network architecture and training logic. The model will have the following structure:\n",
    "\n",
    "* First, add a flattened layer to unroll the 28x28 pixel images into a single array of 784. \n",
    "* Add a dense hidden layer with 50 units (neurons) and ReLU (Rectified Linear Unit) activation function.\n",
    "   * The ReLU function will allow the model to capture non-linearities.\n",
    "* Add a second, dense hidden layer with 20 units and ReLU activation function.\n",
    "* Add a dense output layer with 10 units and the softmax activation function.\n",
    "   * We use ten neurons, each representing the digits 0-9. \n",
    "   * The softmax function ensures the output values are probabilities that sum to 1, making it suitable for classification.\n",
    "\n",
    "Here's a graphical view of what we are doing:\n",
    "\n",
    "![A diagram of the neural network being created. It shows the input 28X28 image being flattened into a 784 dimension array. That is the input. There are two hidden, fully connected layers with 50 and 20 neurons each. The final output layer has 10 neurons for the 10 classes in our model.](images/MNIST_neural_network.png)\n",
    "\n",
    "```python\n",
    "class MNISTClassifier(pl.LightningModule):\n",
    "    def __init__(self):\n",
    "        super().__init__()\n",
    "        # Define the layers\n",
    "        self.flatten = nn.Flatten()\n",
    "        self.fc1 = nn.Linear(28 * 28, 50)  # Flatten 28x28 to 784, then to 50 units\n",
    "        self.fc2 = nn.Linear(50, 20)       # 50 to 20 units\n",
    "        self.fc3 = nn.Linear(20, 10)       # 20 to 10 output classes\n",
    "        \n",
    "    def forward(self, x):\n",
    "        x = self.flatten(x)\n",
    "        x = F.relu(self.fc1(x))\n",
    "        x = F.relu(self.fc2(x))\n",
    "        x = F.log_softmax(self.fc3(x), dim=1)  # Log softmax for NLLLoss\n",
    "        return x\n",
    "    \n",
    "    def training_step(self, batch, batch_idx):\n",
    "        x, y = batch\n",
    "        y_hat = self(x)\n",
    "        loss = F.nll_loss(y_hat, y)\n",
    "        return loss\n",
    "    \n",
    "    def configure_optimizers(self):\n",
    "        return optim.Adam(self.parameters(), lr=0.001)\n",
    "\n",
    "# Instantiate the model\n",
    "model = MNISTClassifier()\n",
    "```"
   ]
  },
  {
   "cell_type": "code",
   "execution_count": 10,
   "metadata": {},
   "outputs": [],
   "source": [
    "# Code it!\n",
    "class MNISTClassifier(pl.LightningModule):\n",
    "    def __init__(self):\n",
    "        super().__init__()\n",
    "        # Define the layers\n",
    "        self.flatten = nn.Flatten()\n",
    "        self.fc1 = nn.Linear(28 * 28, 50)  # Flatten 28x28 to 784, then to 50 units\n",
    "        self.fc2 = nn.Linear(50, 20)       # 50 to 20 units\n",
    "        self.fc3 = nn.Linear(20, 10)       # 20 to 10 output classes\n",
    "        \n",
    "    def forward(self, x):\n",
    "        x = self.flatten(x)\n",
    "        x = F.relu(self.fc1(x))\n",
    "        x = F.relu(self.fc2(x))\n",
    "        x = F.log_softmax(self.fc3(x), dim=1)  # Log softmax for NLLLoss\n",
    "        return x\n",
    "    \n",
    "    def training_step(self, batch, batch_idx):\n",
    "        x, y = batch\n",
    "        y_hat = self(x)\n",
    "        loss = F.nll_loss(y_hat, y)\n",
    "        return loss\n",
    "    \n",
    "    def configure_optimizers(self):\n",
    "        return optim.Adam(self.parameters(), lr=0.001)\n",
    "\n",
    "# Instantiate the model\n",
    "model = MNISTClassifier()"
   ]
  },
  {
   "cell_type": "markdown",
   "metadata": {},
   "source": [
    "## 6. Prepare the data loaders\n",
    "\n",
    "In PyTorch, we need to create data loaders to efficiently batch and iterate through our data during training. PyTorch Lightning works seamlessly with PyTorch's DataLoader.\n",
    "\n",
    "```python\n",
    "# Convert numpy arrays to PyTorch tensors\n",
    "train_features_tensor = torch.tensor(train_features, dtype=torch.float32)\n",
    "train_labels_tensor = torch.tensor(train_labels, dtype=torch.long)\n",
    "test_features_tensor = torch.tensor(test_features, dtype=torch.float32)\n",
    "test_labels_tensor = torch.tensor(test_labels, dtype=torch.long)\n",
    "\n",
    "# Create datasets\n",
    "train_dataset = TensorDataset(train_features_tensor, train_labels_tensor)\n",
    "test_dataset = TensorDataset(test_features_tensor, test_labels_tensor)\n",
    "\n",
    "# Create data loaders\n",
    "train_loader = DataLoader(train_dataset, batch_size=64, shuffle=True)\n",
    "test_loader = DataLoader(test_dataset, batch_size=64, shuffle=False)\n",
    "```"
   ]
  },
  {
   "cell_type": "code",
   "execution_count": 11,
   "metadata": {},
   "outputs": [],
   "source": [
    "# Code it!\n",
    "# Convert numpy arrays to PyTorch tensors\n",
    "train_features_tensor = torch.tensor(train_features, dtype=torch.float32)\n",
    "train_labels_tensor = torch.tensor(train_labels, dtype=torch.long)\n",
    "test_features_tensor = torch.tensor(test_features, dtype=torch.float32)\n",
    "test_labels_tensor = torch.tensor(test_labels, dtype=torch.long)\n",
    "\n",
    "# Create datasets\n",
    "train_dataset = TensorDataset(train_features_tensor, train_labels_tensor)\n",
    "test_dataset = TensorDataset(test_features_tensor, test_labels_tensor)\n",
    "\n",
    "# Create data loaders\n",
    "train_loader = DataLoader(train_dataset, batch_size=64, shuffle=True)\n",
    "test_loader = DataLoader(test_dataset, batch_size=64, shuffle=False)"
   ]
  },
  {
   "cell_type": "markdown",
   "metadata": {},
   "source": [
    "## 7. Inspect the model configuration using print\n",
    "\n",
    "Display a summary of the model's architecture, including the layers, their shapes, and the number of parameters.\n",
    "\n",
    "```python\n",
    "print(model)\n",
    "\n",
    "# Count the total parameters\n",
    "total_params = sum(p.numel() for p in model.parameters())\n",
    "print(f\"\\nTotal parameters: {total_params}\")\n",
    "```"
   ]
  },
  {
   "cell_type": "code",
   "execution_count": 12,
   "metadata": {},
   "outputs": [
    {
     "name": "stdout",
     "output_type": "stream",
     "text": [
      "MNISTClassifier(\n",
      "  (flatten): Flatten(start_dim=1, end_dim=-1)\n",
      "  (fc1): Linear(in_features=784, out_features=50, bias=True)\n",
      "  (fc2): Linear(in_features=50, out_features=20, bias=True)\n",
      "  (fc3): Linear(in_features=20, out_features=10, bias=True)\n",
      ")\n",
      "\n",
      "Total parameters: 40480\n"
     ]
    }
   ],
   "source": [
    "# Code it!\n",
    "print(model)\n",
    "\n",
    "# Count the total parameters\n",
    "total_params = sum(p.numel() for p in model.parameters())\n",
    "print(f\"\\nTotal parameters: {total_params}\")"
   ]
  },
  {
   "cell_type": "markdown",
   "metadata": {},
   "source": [
    "The model summary indicates that this model has 40,480 parameters (weights and biases). **Note**: If your model does not show `Total parameters: 40480`, double check your model was set up correctly."
   ]
  },
  {
   "cell_type": "markdown",
   "metadata": {},
   "source": [
    "## 8. Train the model using PyTorch Lightning\n",
    "\n",
    "Now, train the model on the MNIST dataset using PyTorch Lightning's `Trainer`. We'll set the training to run for 10 epochs.\n",
    "\n",
    "Train the model using the training data:\n",
    "* `train_loader`: the DataLoader containing input images and labels\n",
    "* `max_epochs=10`: the number of times the model will cycle through the entire dataset\n",
    "\n",
    "```python\n",
    "# Create a PyTorch Lightning trainer\n",
    "trainer = Trainer(max_epochs=10, enable_progress_bar=True)\n",
    "\n",
    "# Train the model\n",
    "trainer.fit(model, train_loader)\n",
    "```"
   ]
  },
  {
   "cell_type": "code",
   "execution_count": 13,
   "metadata": {},
   "outputs": [
    {
     "name": "stderr",
     "output_type": "stream",
     "text": [
      "You are using the plain ModelCheckpoint callback. Consider using LitModelCheckpoint which with seamless uploading to Model registry.\n",
      "GPU available: True (cuda), used: True\n",
      "TPU available: False, using: 0 TPU cores\n",
      "HPU available: False, using: 0 HPUs\n",
      "/blue/ufhpc/magitz/conda/envs/lightning/lib/python3.13/site-packages/pytorch_lightning/trainer/connectors/logger_connector/logger_connector.py:76: Starting from v1.9.0, `tensorboardX` has been removed as a dependency of the `pytorch_lightning` package, due to potential conflicts with other packages in the ML ecosystem. For this reason, `logger=True` will use `CSVLogger` as the default logger, unless the `tensorboard` or `tensorboardX` packages are found. Please `pip install lightning[extra]` or one of them to enable TensorBoard support by default\n",
      "You are using a CUDA device ('NVIDIA L4') that has Tensor Cores. To properly utilize them, you should set `torch.set_float32_matmul_precision('medium' | 'high')` which will trade-off precision for performance. For more details, read https://pytorch.org/docs/stable/generated/torch.set_float32_matmul_precision.html#torch.set_float32_matmul_precision\n",
      "LOCAL_RANK: 0 - CUDA_VISIBLE_DEVICES: [0]\n",
      "\n",
      "  | Name    | Type    | Params | Mode \n",
      "--------------------------------------------\n",
      "0 | flatten | Flatten | 0      | train\n",
      "1 | fc1     | Linear  | 39.2 K | train\n",
      "2 | fc2     | Linear  | 1.0 K  | train\n",
      "3 | fc3     | Linear  | 210    | train\n",
      "--------------------------------------------\n",
      "40.5 K    Trainable params\n",
      "0         Non-trainable params\n",
      "40.5 K    Total params\n",
      "0.162     Total estimated model params size (MB)\n",
      "4         Modules in train mode\n",
      "0         Modules in eval mode\n",
      "SLURM auto-requeueing enabled. Setting signal handlers.\n",
      "/blue/ufhpc/magitz/conda/envs/lightning/lib/python3.13/site-packages/pytorch_lightning/trainer/connectors/data_connector.py:425: The 'train_dataloader' does not have many workers which may be a bottleneck. Consider increasing the value of the `num_workers` argument` to `num_workers=3` in the `DataLoader` to improve performance.\n"
     ]
    },
    {
     "data": {
      "application/vnd.jupyter.widget-view+json": {
       "model_id": "7abb4582ce324dae84dd31002811f86f",
       "version_major": 2,
       "version_minor": 0
      },
      "text/plain": [
       "Training: |          | 0/? [00:00<?, ?it/s]"
      ]
     },
     "metadata": {},
     "output_type": "display_data"
    },
    {
     "name": "stderr",
     "output_type": "stream",
     "text": [
      "`Trainer.fit` stopped: `max_epochs=10` reached.\n"
     ]
    }
   ],
   "source": [
    "# Code it!\n",
    "# Create a PyTorch Lightning trainer\n",
    "trainer = Trainer(max_epochs=10, enable_progress_bar=True)\n",
    "\n",
    "# Train the model\n",
    "trainer.fit(model, train_loader)"
   ]
  },
  {
   "cell_type": "markdown",
   "metadata": {},
   "source": [
    "## 9. Evaluate the model\n",
    "\n",
    "Finally, evaluate your model's performance on the test set. Since our PyTorch Lightning model doesn't have a built-in test step, we'll evaluate it manually.\n",
    "\n",
    "Evaluate the model's performance using the testing data:\n",
    "* `test_loader`: the DataLoader containing test images and labels\n",
    "\n",
    "```python\n",
    "# Set model to evaluation mode\n",
    "model.eval()\n",
    "correct = 0\n",
    "total = 0\n",
    "\n",
    "with torch.no_grad():\n",
    "    for data, target in test_loader:\n",
    "        outputs = model(data)\n",
    "        _, predicted = torch.max(outputs.data, 1)\n",
    "        total += target.size(0)\n",
    "        correct += (predicted == target).sum().item()\n",
    "\n",
    "accuracy = correct / total\n",
    "print(f'Test Accuracy: {accuracy:.4f} ({100 * accuracy:.2f}%)')\n",
    "```"
   ]
  },
  {
   "cell_type": "code",
   "execution_count": 14,
   "metadata": {},
   "outputs": [
    {
     "name": "stdout",
     "output_type": "stream",
     "text": [
      "Test Accuracy: 0.9705 (97.05%)\n"
     ]
    }
   ],
   "source": [
    "# Code it!\n",
    "# Set model to evaluation mode\n",
    "model.eval()\n",
    "correct = 0\n",
    "total = 0\n",
    "\n",
    "with torch.no_grad():\n",
    "    for data, target in test_loader:\n",
    "        outputs = model(data)\n",
    "        _, predicted = torch.max(outputs.data, 1)\n",
    "        total += target.size(0)\n",
    "        correct += (predicted == target).sum().item()\n",
    "\n",
    "accuracy = correct / total\n",
    "print(f'Test Accuracy: {accuracy:.4f} ({100 * accuracy:.2f}%)')"
   ]
  },
  {
   "cell_type": "markdown",
   "metadata": {},
   "source": [
    "## 10. Model predictions\n",
    "\n",
    "Let's see how the model performs on some randomly selected images.  Are its predictions correct?  \n",
    "\n",
    "Randomly select an image from the test dataset, in this case, the 200th image.\n",
    "\n",
    "Select a specific image from the test dataset for examination or prediction.\n",
    "\n",
    "The variable `loc` is set to the index 200, which means we are selecting the 201st image (0-based index) from the test dataset.\n",
    "\n",
    "```python\n",
    "loc = 200\n",
    "\n",
    "# Extract the corresponding image from the test_features array and store it in the 'test_image' variable.\n",
    "test_image = test_features[loc]\n",
    "```"
   ]
  },
  {
   "cell_type": "code",
   "execution_count": 15,
   "metadata": {},
   "outputs": [],
   "source": [
    "# Code it!\n",
    "loc = 200\n",
    "\n",
    "# Extract the corresponding image from the test_features array and store it in the 'test_image' variable.\n",
    "test_image = test_features[loc]"
   ]
  },
  {
   "cell_type": "markdown",
   "metadata": {},
   "source": [
    "First, let's take a look at the shape of the image.\n",
    "\n",
    "* Get and display the shape (dimensions) of the `test_image` variable.\n",
    "* This provides insight into the structure and size of the image.\n",
    "\n",
    "```python\n",
    "test_image.shape\n",
    "```"
   ]
  },
  {
   "cell_type": "code",
   "execution_count": 16,
   "metadata": {},
   "outputs": [
    {
     "data": {
      "text/plain": [
       "(28, 28)"
      ]
     },
     "execution_count": 16,
     "metadata": {},
     "output_type": "execute_result"
    }
   ],
   "source": [
    "# Code it!\n",
    "test_image.shape"
   ]
  },
  {
   "cell_type": "markdown",
   "metadata": {},
   "source": [
    "We see that our image is 28x28 pixels. However, the model needs not just the size of the image but also the batch dimension. A simple call to the `reshape()` method or `unsqueeze()` fixes that problem. \n",
    "\n",
    "* Reshape the 'test_image' from a 2D array (28x28) to a 3D array (1x28x28).\n",
    "* This is commonly done to match the input shape that the model expects when making predictions on single samples.\n",
    "\n",
    "```python\n",
    "test_image_tensor = torch.tensor(test_image, dtype=torch.float32).unsqueeze(0)  # Add batch dimension\n",
    "```"
   ]
  },
  {
   "cell_type": "code",
   "execution_count": 17,
   "metadata": {},
   "outputs": [],
   "source": [
    "# Code it!\n",
    "test_image_tensor = torch.tensor(test_image, dtype=torch.float32).unsqueeze(0)  # Add batch dimension"
   ]
  },
  {
   "cell_type": "markdown",
   "metadata": {},
   "source": [
    "Now call the model's forward pass to make a prediction, assign the output to result, and then view its contents.\n",
    "\n",
    "* Use the trained model to predict the label for the `test_image_tensor`.\n",
    "* The model returns log probabilities, so we'll convert them to probabilities and display both.\n",
    "* Each value in the array corresponds to the model's predicted probability that the image belongs to a particular class (digit).\n",
    "\n",
    "```python\n",
    "model.eval()\n",
    "with torch.no_grad():\n",
    "    result = model(test_image_tensor)\n",
    "    probabilities = torch.exp(result)  # Convert log probabilities to probabilities\n",
    "\n",
    "# Print the array of probabilities to the console.\n",
    "print(\"Log probabilities:\", result)\n",
    "print(\"Probabilities:\", probabilities)\n",
    "```"
   ]
  },
  {
   "cell_type": "code",
   "execution_count": 18,
   "metadata": {},
   "outputs": [
    {
     "name": "stdout",
     "output_type": "stream",
     "text": [
      "Log probabilities: tensor([[-1.9592e+01, -2.4130e+01, -1.5317e+01, -2.3484e-05, -3.6941e+01,\n",
      "         -1.0731e+01, -3.1411e+01, -2.5244e+01, -1.3499e+01, -2.0422e+01]])\n",
      "Probabilities: tensor([[3.0990e-09, 3.3134e-11, 2.2282e-07, 9.9998e-01, 9.0519e-17, 2.1856e-05,\n",
      "         2.2819e-14, 1.0878e-11, 1.3718e-06, 1.3515e-09]])\n"
     ]
    }
   ],
   "source": [
    "# Code it!\n",
    "model.eval()\n",
    "with torch.no_grad():\n",
    "    result = model(test_image_tensor)\n",
    "    probabilities = torch.exp(result)  # Convert log probabilities to probabilities\n",
    "\n",
    "# Print the array of probabilities to the console.\n",
    "print(\"Log probabilities:\", result)\n",
    "print(\"Probabilities:\", probabilities)"
   ]
  },
  {
   "cell_type": "markdown",
   "metadata": {},
   "source": [
    "As we see, the model has returned the probability of 10 predictions, with the highest one being the most likely.  Use the `argmax` function to see the model's prediction.\n",
    "\n",
    "* Use the `argmax` method to find the index (label) of the maximum value in the `result` tensor.\n",
    "   * This gives us the model's most likely prediction for the class (digit) of the `test_image`.\n",
    "\n",
    "```python\n",
    "predicted_digit = result.argmax(dim=1).item()\n",
    "print(f\"Predicted digit: {predicted_digit}\")\n",
    "```"
   ]
  },
  {
   "cell_type": "code",
   "execution_count": 19,
   "metadata": {},
   "outputs": [
    {
     "name": "stdout",
     "output_type": "stream",
     "text": [
      "Predicted digit: 3\n"
     ]
    }
   ],
   "source": [
    "# Code it!\n",
    "predicted_digit = result.argmax(dim=1).item()\n",
    "print(f\"Predicted digit: {predicted_digit}\")"
   ]
  },
  {
   "cell_type": "markdown",
   "metadata": {},
   "source": [
    "To verify the prediction, check the label of the corresponding image.\n",
    "\n",
    "* Using the index loc, retrieve the true label (actual digit) for the `test_image` from the `test_labels` array.\n",
    "   * This gives us the actual class (digit) of the `test_image` to compare with the model's prediction.\n",
    "\n",
    "```python\n",
    "true_digit = test_labels[loc]\n",
    "print(f\"True digit: {true_digit}\")\n",
    "```"
   ]
  },
  {
   "cell_type": "code",
   "execution_count": 20,
   "metadata": {},
   "outputs": [
    {
     "name": "stdout",
     "output_type": "stream",
     "text": [
      "True digit: 3\n"
     ]
    }
   ],
   "source": [
    "# Code it!\n",
    "true_digit = test_labels[loc]\n",
    "print(f\"True digit: {true_digit}\")"
   ]
  },
  {
   "cell_type": "markdown",
   "metadata": {},
   "source": [
    "Finally, visualize the image with pyplot.\n",
    "\n",
    "* Use the `imshow` function from the `matplotlib` library to display the `test_image` as a visual image.\n",
    "   * This helps in visually examining the content of the `test_image` (which is represented as a 28x28 array of pixel values).\n",
    "\n",
    "```python\n",
    "plt.imshow(test_features[loc], cmap='gray')\n",
    "plt.title(f'Predicted: {predicted_digit}, True: {true_digit}')\n",
    "plt.show()\n",
    "```"
   ]
  },
  {
   "cell_type": "code",
   "execution_count": 21,
   "metadata": {},
   "outputs": [
    {
     "data": {
      "image/png": "[encoded data removed]",
      "text/plain": [
       "<Figure size 640x480 with 1 Axes>"
      ]
     },
     "metadata": {},
     "output_type": "display_data"
    }
   ],
   "source": [
    "# Code it!\n",
    "plt.imshow(test_features[loc], cmap='gray')\n",
    "plt.title(f'Predicted: {predicted_digit}, True: {true_digit}')\n",
    "plt.show()"
   ]
  },
  {
   "cell_type": "markdown",
   "metadata": {},
   "source": [
    "And we did it! We helped Amelia create a model that can recognize handwritten digits!\n",
    "\n",
    "\n",
    "## Bonus exercise\n",
    "\n",
    "* Write a function that ties all these steps into one function call. The function should take an input image and print the image with the predicted digit and true digit."
   ]
  },
  {
   "cell_type": "markdown",
   "metadata": {
    "tags": []
   },
   "source": [
    "## Before continuing\n",
    "###  <img src='images/alert_icon.svg' alt=\"Alert icon\" width=40 align=center> Alert!\n",
    "> Before continuing to another notebook within the same Jupyter session,\n",
    "> use the **\"Running Terminals and Kernels\" tab** (below the File Browser tab) to **shut down this kernel**. \n",
    "> This will free up this notebook's GPU memory, making it available for\n",
    "> your next notebook.\n",
    ">\n",
    "> Every time you run multiple notebooks within a Jupyter session with a GPU, this should be done.\n",
    ">\n",
    "> ![Screenshot of the Running Terminals and Kernels tab used t oshut down kernels before starting a new notebook](images/stop_kernel.png)\n",
    "\n",
    "----\n",
    "## Push changes to GitHub <img src=\"images/push_to_github.png\" alt=\"Push to GitHub icon\" align=\"right\" width=150>\n",
    "\n",
    " Remember to **add**, **commit**, and **push** the changes you have made to this notebook to GitHub to keep your repository in sync.\n",
    "\n",
    "In Jupyter, those are done in the git tab on the left. In Google Colab, use File > Save a copy in GitHub.\n"
   ]
  },
  {
   "cell_type": "code",
   "execution_count": null,
   "metadata": {},
   "outputs": [],
   "source": []
  }
 ],
 "metadata": {
  "kernelspec": {
   "display_name": "lightning",
   "language": "python",
   "name": "python3"
  },
  "language_info": {
   "codemirror_mode": {
    "name": "ipython",
    "version": 3
   },
   "file_extension": ".py",
   "mimetype": "text/x-python",
   "name": "python",
   "nbconvert_exporter": "python",
   "pygments_lexer": "ipython3",
   "version": "3.13.2"
  }
 },
 "nbformat": 4,
 "nbformat_minor": 4
}
